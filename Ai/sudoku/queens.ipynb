{
 "cells": [
  {
   "cell_type": "markdown",
   "metadata": {},
   "source": [
    "# Homework 2 <br>\n"
   ]
  },
  {
   "cell_type": "markdown",
   "metadata": {},
   "source": [
    "## Problem 2: Borrow code from Homework 1"
   ]
  },
  {
   "cell_type": "code",
   "execution_count": 1,
   "metadata": {},
   "outputs": [],
   "source": [
    "class Node():\n",
    "    def __init__(self, name, heuristic):\n",
    "        self.cost = {}   \n",
    "        self.children = []\n",
    "        self.name = name  \n",
    "        self.heuristic = heuristic \n",
    "    \n",
    "    def add_children(self, node, cost):\n",
    "        \"\"\"\n",
    "        Add the children nodes with the corresponding cost of connection\n",
    "        \"\"\"\n",
    "        self.cost[node.name] = {}\n",
    "        self.cost[node.name]['node'] = node # cost is the path cost\n",
    "        self.children.append(node)\n",
    "        self.cost[node.name]['cost'] = cost # cost is the path cost   \n",
    "\n",
    "    def clear_children(self):\n",
    "        self.cost = {}\n",
    "    \n",
    "    def sort_children(self):\n",
    "        \"\"\"\n",
    "        sort the children alphabetically. \n",
    "        e.g. [D,A,B] -> [D,B,A] \n",
    "        \"\"\"\n",
    "        self.children = []\n",
    "        for i in sorted(self.cost.keys(), reverse=True):\n",
    "            self.children.append(self.cost[i]['node'])\n",
    "\n",
    "    def is_terminal_node(self):\n",
    "        return not self.cost\n",
    "\n",
    "    def pop(self):\n",
    "        if len(self.children):\n",
    "            return self.children.pop()\n",
    "        else:\n",
    "            return False\n",
    "\n",
    "class Graph():\n",
    "    def __init__(self):\n",
    "        # create nodes for examples in appendix and question 3\n",
    "        self.S = Node('S',10)\n",
    "        self.A = Node('A',float('inf'))\n",
    "        self.B = Node('B',7)\n",
    "        self.D = Node('D',10)\n",
    "        self.E = Node('E',3)\n",
    "        self.G = Node('G',0)\n",
    "        self.T = Node('T',4)\n",
    "        self.F = Node('F',float('inf'))\n",
    "        self.J = Node('J',6)\n",
    "\n",
    "\n",
    "    def create_graph_p1(self):\n",
    "        \"\"\"\n",
    "        Create graph for problem 1 in Homework 2\n",
    "        \"\"\"\n",
    "        # create list containing nodes needed for this graph\n",
    "        node_list = [self.S, self.A, self.B, self.D, self.E, self.G, self.T, self.F, self.J]\n",
    "\n",
    "        # clear the existing children in the nodes if any\n",
    "        for node in node_list:\n",
    "            node.clear_children()\n",
    "\n",
    "        # add children node and the cost of connection\n",
    "        self.S.add_children(self.D,2)\n",
    "        self.S.add_children(self.B,4)\n",
    "        self.D.add_children(self.A,1)\n",
    "        self.D.add_children(self.E,5)\n",
    "        self.B.add_children(self.T,2)\n",
    "        self.B.add_children(self.J,1)\n",
    "        self.A.add_children(self.F,3)\n",
    "        self.T.add_children(self.G,3)\n",
    "        self.J.add_children(self.G,6)\n",
    "        self.E.add_children(self.J,1)\n",
    "\n",
    "        # sort the children alphabetically\n",
    "        for node in node_list:\n",
    "            node.sort_children()\n",
    "\n",
    "\n",
    "def Uniform_Cost_Tree_Search(start_node):\n",
    "    frontier = [[start_node]]\n",
    "    paths_cost = [0]\n",
    "    expansion_order = []\n",
    "\n",
    "    while len(frontier):  # while frontier is not empty\n",
    "        main_node = frontier[-1][-1] # frontier[-1] gives the last path in the list, frontier[-1][-1] gives the last node in that path\n",
    "        expansion_order.append(main_node) # add it to the expansion order list\n",
    "\n",
    "        # check if the node is goal or not\n",
    "        if main_node.name == 'G':\n",
    "            return frontier[-1], expansion_order  # if true, return the last path in frontier and expansion order\n",
    "\n",
    "        # get the list of successors of main node\n",
    "        successors = main_node.children\n",
    "\n",
    "        # iterate through each successor\n",
    "        for successor in successors:\n",
    "            tmplist = frontier[-1].copy()     \n",
    "            tmplist.append(successor)    # add the successor to the path\n",
    "            frontier.insert(0,tmplist)  # insert to the front of frontier list\n",
    "            paths_cost.insert(0,paths_cost[-1]+main_node.cost[successor.name]['cost']) # update the path cost\n",
    "\n",
    "\n",
    "        frontier.pop()  # remove the old path\n",
    "        paths_cost.pop() # remove the old cost\n",
    "\n",
    "        # min_ind = paths_cost.index(min(paths_cost))\n",
    "        min_ind_list = [i for i in range(len(paths_cost)) if paths_cost[i] == min(paths_cost)] # find the indices of lowest cost path\n",
    "        if (len(min_ind_list) > 1): # if these is more than one lowest cost path\n",
    "            # follow the alphabetical expansion order\n",
    "            lower_letter = frontier[min_ind_list[0]][-1].name  \n",
    "            for i in min_ind_list[1:]:\n",
    "                if frontier[i][-1].name < lower_letter: \n",
    "                    min_ind = i  \n",
    "                    lower_letter = frontier[i][-1].name\n",
    "        else: \n",
    "            min_ind = min_ind_list[0]\n",
    "\n",
    "        # brind the lowest cost path to end of the list. Update the paths_cost accordingly\n",
    "        frontier.append(frontier[min_ind])\n",
    "        frontier.pop(min_ind)\n",
    "        paths_cost.append(paths_cost[min_ind])\n",
    "        paths_cost.pop(min_ind)\n",
    "\n",
    "    return frontier, expansion_order \n",
    "\n",
    "def Uniform_Cost_Graph_Search(start_node):\n",
    "    frontier = [[start_node]]\n",
    "    paths_cost = [0]\n",
    "    expansion_order = []\n",
    "    explored = [start_node]\n",
    "\n",
    "    while len(frontier):  # while frontier is not empty\n",
    "        main_node = frontier[-1][-1] # frontier[-1] gives the last path in the list, frontier[-1][-1] gives the last node in that path\n",
    "        expansion_order.append(main_node) # add it to the expansion order list\n",
    "\n",
    "        # check if the node is goal or not\n",
    "        if main_node.name == 'G':\n",
    "            return frontier[-1], expansion_order, # if true, return the last path in frontier and expansion order\n",
    "\n",
    "        # get the list of successors of main node\n",
    "        successors = main_node.children\n",
    "        # iterate through each successor\n",
    "        for successor in successors:\n",
    "            if successor in expansion_order: continue # if the main_node is already expanded, then skip it\n",
    "            tmplist = frontier[-1].copy()     \n",
    "            tmplist.append(successor)    # add the successor to the path\n",
    "            frontier.insert(0,tmplist)  # insert to the front of frontier list\n",
    "            paths_cost.insert(0,paths_cost[-1]+main_node.cost[successor.name]['cost']) # update the path cost\n",
    "\n",
    "            if successor in explored: # if the main_node is already explored\n",
    "                for ind, path in enumerate(frontier[1:]):  # find the node in the frontier\n",
    "                    if path[-1] == successor:       \n",
    "                        if paths_cost[ind+1] > paths_cost[0]:  # if the node in frontier has higher path cost,\n",
    "                            frontier.pop(ind+1)                  # remove it \n",
    "                            paths_cost.pop(ind+1)\n",
    "                        else:\n",
    "                            frontier.pop(0)       # if the node in frontier has lower path cost,\n",
    "                            paths_cost.pop(0)     # remove the successor\n",
    "                        break  # jumpt out of the for loop\n",
    "            else:\n",
    "                explored.append(successor) # add to the explored list\n",
    "\n",
    "\n",
    "        frontier.pop()  # remove the old path\n",
    "        paths_cost.pop() # remove the old cost\n",
    "\n",
    "        # min_ind = paths_cost.index(min(paths_cost))\n",
    "        min_ind_list = [i for i in range(len(paths_cost)) if paths_cost[i] == min(paths_cost)] # find the indices of lowest cost path\n",
    "        if (len(min_ind_list) > 1): # if these is more than one lowest cost path\n",
    "            # follow the alphabetical expansion order\n",
    "            lower_letter = frontier[min_ind_list[0]][-1].name  \n",
    "            for i in min_ind_list[1:]:\n",
    "                if frontier[i][-1].name < lower_letter: \n",
    "                    min_ind = i  \n",
    "                    lower_letter = frontier[i][-1].name\n",
    "        else: \n",
    "            min_ind = min_ind_list[0]\n",
    "\n",
    "        # brind the lowest cost path to end of the list. Update the paths_cost accordingly\n",
    "        frontier.append(frontier[min_ind])\n",
    "        frontier.pop(min_ind)\n",
    "        paths_cost.append(paths_cost[min_ind])\n",
    "        paths_cost.pop(min_ind)\n",
    "\n",
    "    return frontier, expansion_order "
   ]
  },
  {
   "cell_type": "code",
   "execution_count": 2,
   "metadata": {},
   "outputs": [
    {
     "name": "stdout",
     "output_type": "stream",
     "text": [
      "The path returned is S B T G \n",
      "\n",
      "The node expansion order is S D A B J F T E G "
     ]
    }
   ],
   "source": [
    "# execute the Uniform Cost graph search \n",
    "graph = Graph()\n",
    "graph.create_graph_p1()\n",
    "\n",
    "p, e = Uniform_Cost_Graph_Search(graph.S)\n",
    "print(\"The path returned is \", end='')\n",
    "for node in p:\n",
    "    print(node.name, end = ' ')\n",
    "print('\\n')\n",
    "print(\"The node expansion order is \", end='')\n",
    "for node in e:\n",
    "    print(node.name, end = ' ')"
   ]
  },
  {
   "cell_type": "code",
   "execution_count": 3,
   "metadata": {},
   "outputs": [
    {
     "name": "stdout",
     "output_type": "stream",
     "text": [
      "The path returned is S B T G \n",
      "\n",
      "The node expansion order is S D A B J F T E J G "
     ]
    }
   ],
   "source": [
    "# execute the Uniform Cost tree search \n",
    "graph = Graph()\n",
    "graph.create_graph_p1()\n",
    "\n",
    "p, e = Uniform_Cost_Tree_Search(graph.S)\n",
    "print(\"The path returned is \", end='')\n",
    "for node in p:\n",
    "    print(node.name, end = ' ')\n",
    "print('\\n')\n",
    "print(\"The node expansion order is \", end='')\n",
    "for node in e:\n",
    "    print(node.name, end = ' ')"
   ]
  },
  {
   "cell_type": "markdown",
   "metadata": {},
   "source": [
    "# N-queen Problem ~ very similar to Sudoku puzzle"
   ]
  },
  {
   "cell_type": "code",
   "execution_count": 4,
   "metadata": {},
   "outputs": [],
   "source": [
    "# constants for clearer code\n",
    "FAILURE = False\n",
    "\n",
    "N = 4 # number of queens\n",
    "\n",
    "# Formulate this N-queen to CSP\n",
    "# first create the variable list\n",
    "vars = [col for col in range(N)]\n",
    "\n",
    "# create the domain for each variable in variables list\n",
    "doms = {var:[pos for pos in range(N)] for var in vars} # this is a dictionary\n",
    "\n",
    "# find the neighbors for each variable/ constraints\n",
    "neighs = [[neighbor for neighbor in vars if neighbor != variable] for variable in vars]\n",
    "\n",
    "# create assigment list\n",
    "assign = {var:[] for var in vars}  # create a dictionary with value as empty list because we have not assigned anything yet \n",
    "\n",
    "# create a CSP problem dictionary\n",
    "csp_1 = {\"variables\" : vars, \"domains\" : doms, \"neighbors\" : neighs}\n"
   ]
  },
  {
   "cell_type": "code",
   "execution_count": 5,
   "metadata": {},
   "outputs": [],
   "source": [
    "import copy\n",
    "\n",
    "def print_n_queen(assignment, CSP):\n",
    "    \"\"\"\n",
    "    print the n queen\n",
    "    \"\"\"\n",
    "    for row in CSP[\"variables\"]:\n",
    "        print(row, end=\"\")\n",
    "        for col in CSP[\"variables\"]:\n",
    "            if assignment[col][0] == row:\n",
    "                print(\"| Q |\", end=\"\")\n",
    "            else: \n",
    "                print(\"|   |\", end=\"\")\n",
    "        print(\"\\n\")\n",
    "\n",
    "def is_assignment_complete(assignment):\n",
    "    \"\"\"\n",
    "    check if the assignment is complete. \n",
    "    E.g. \n",
    "        {0: [1], 1:[3], 2:[4]} is complete\n",
    "        {0: [1], 1:[], 2:[4]}  is not complete as variable 1 has not been assigned\n",
    "    \"\"\"\n",
    "    for k,v in assignment.items():\n",
    "        if len(v) == 0: # check if the variable has been assigned yet\n",
    "            return False\n",
    "    return True\n",
    "\n",
    "def select_unassigned_variable(assignment):\n",
    "    \"\"\"\n",
    "    return 1 variable which has not been assigned yet\n",
    "    E.g. \n",
    "        assignment = {0: [1], 1:[], 2:[4]} returns variable 1\n",
    "    \"\"\"\n",
    "    for variable, assigned_value in assignment.items():\n",
    "        if len(assigned_value) == 0: # check if the variable has been assigned yet\n",
    "            return variable\n",
    "\n",
    "def is_nqueen_consistent(value, variable, assignment, CSP):\n",
    "    \"\"\"\n",
    "    return 1 variable which has not been assigned yet\n",
    "    E.g. \n",
    "        assignment = {0: [1], 1:[], 2:[4]} returns variable 1\n",
    "    \"\"\"\n",
    "    for k,v in assignment.items():\n",
    "        if k != variable and len(v) != 0 and k in CSP[\"neighbors\"][variable]:\n",
    "            # first constraint: queens can't be on the same row\n",
    "            if v[0] == value:\n",
    "                return False\n",
    "            # second constraint: queens can't see one another diagonally\n",
    "            col_dist = abs(variable-k)\n",
    "            if v[0] == value+col_dist or v[0] == value-col_dist:\n",
    "                return False \n",
    "    return True\n",
    "\n",
    "def forward_checking(CSP, variable, assignment):\n",
    "    \"\"\" \n",
    "    Reduce the domain of neighbors of variable\n",
    "    \"\"\"\n",
    "    # copy the dictionary to avoid pointing to the same dictionary\n",
    "    new_CSP = copy.deepcopy(CSP)\n",
    "    for var, value in assignment.items():\n",
    "        if var != variable and var in new_CSP[\"neighbors\"][variable]:\n",
    "            if len(value) == 0: # if the variable has not been assigned yet\n",
    "                if assignment[variable][0] in new_CSP[\"domains\"][var]:\n",
    "                    new_CSP[\"domains\"][var].remove(assignment[variable][0])\n",
    "            if len(new_CSP[\"domains\"][var]) == 0:  # if the domain is reduced to empty\n",
    "                return False, new_CSP\n",
    "    return True, new_CSP\n",
    "\n",
    "def none_inference(CSP, variable, assignment):\n",
    "    return True, CSP\n",
    "\n",
    "# implemement backtracking\n",
    "def recursive_backtracking(assignment, CSP, check_consistent_function, inference=none_inference):\n",
    "    if (is_assignment_complete(assignment) is True): \n",
    "        return True, assignment\n",
    "\n",
    "    new_assignment = copy.deepcopy(assignment)\n",
    "    variable = select_unassigned_variable(new_assignment)\n",
    "\n",
    "    for value in CSP[\"domains\"][variable]:\n",
    "        if check_consistent_function(value, variable, new_assignment, CSP):\n",
    "            # add the value to the new_assignment \n",
    "            new_assignment[variable].append(value)\n",
    "\n",
    "            infererece_state, new_CSP = inference(CSP, variable, new_assignment)\n",
    "            if infererece_state is True: # if the inference is successful\n",
    "                backtrack_state, new_assignment = recursive_backtracking(new_assignment, new_CSP, check_consistent_function, inference)\n",
    "                if backtrack_state is True:  \n",
    "                    return True, new_assignment\n",
    "                else:\n",
    "                    new_assignment[variable].remove(value)\n",
    "            else: # if the inference fails, i.e. some domains become empty\n",
    "                new_assignment[variable].remove(value)\n",
    "\n",
    "    return False, new_assignment\n",
    "\n",
    "\n",
    "def revise_nqueen(CSP, Xi, Xj):\n",
    "    revised = False\n",
    "    new_CSP = copy.deepcopy(CSP)\n",
    "\n",
    "    # if len(CSP[\"domains\"][Xi]) == len(CSP[\"domains\"][Xj]): \n",
    "    #     return revised, new_CSP\n",
    "    col_dist = abs(Xi-Xj)\n",
    "    if len(CSP[\"domains\"][Xj])==1:\n",
    "        for xi in CSP[\"domains\"][Xi]:\n",
    "            # for xj in new_CSP[\"domains\"][Xj]:\n",
    "            xj = new_CSP[\"domains\"][Xj][0]\n",
    "                # if xi in new_CSP[\"domains\"][Xi] and len(new_CSP[\"domains\"][Xj])==1:\n",
    "            if xi in new_CSP[\"domains\"][Xi]:\n",
    "                if xi == xj or xi == xj+col_dist or xi == xj-col_dist:\n",
    "                    new_CSP[\"domains\"][Xi].remove(xi)\n",
    "                    revised = True\n",
    "    return revised, new_CSP\n",
    "\n",
    "\n",
    "def arc_consistency(CSP, revise):\n",
    "    queue = [(Xi, Xj) for Xi in CSP[\"variables\"] for Xj in CSP[\"neighbors\"][Xi] ] \n",
    "    csp = copy.deepcopy(CSP)\n",
    "    while len(queue): # while queue is not empty\n",
    "        Xi, Xj = queue.pop(0)\n",
    "        # print(f\"Considering {Xi} -> {Xj}\")\n",
    "        revise_state, new_CSP = revise(csp, Xi, Xj)\n",
    "        if revise_state is True: # the domain of Xi has been changed\n",
    "            if len(new_CSP[\"domains\"][Xi]) == 0:\n",
    "                return False, new_CSP\n",
    "            for xk in new_CSP[\"neighbors\"][Xi]:\n",
    "                if xk != Xj:\n",
    "                    queue.append((Xi,xk))\n",
    "            csp = copy.deepcopy(new_CSP)\n",
    "\n",
    "    return True, new_CSP\n",
    "\n"
   ]
  },
  {
   "cell_type": "code",
   "execution_count": 6,
   "metadata": {},
   "outputs": [
    {
     "data": {
      "text/plain": [
       "{'variables': [0, 1, 2, 3],\n",
       " 'domains': {0: [0, 1, 2], 1: [3], 2: [0, 1, 2, 3], 3: [0, 1, 2, 3]},\n",
       " 'neighbors': [[1, 2, 3], [0, 2, 3], [0, 1, 3], [0, 1, 2]]}"
      ]
     },
     "execution_count": 6,
     "metadata": {},
     "output_type": "execute_result"
    }
   ],
   "source": [
    "csp_1[\"domains\"][0] = [0,1,2]\n",
    "csp_1[\"domains\"][1] = [3]\n",
    "csp_1"
   ]
  },
  {
   "cell_type": "code",
   "execution_count": 7,
   "metadata": {},
   "outputs": [
    {
     "data": {
      "text/plain": [
       "{'variables': [0, 1, 2, 3],\n",
       " 'domains': {0: [0, 1], 1: [3], 2: [0, 1], 3: [0, 2]},\n",
       " 'neighbors': [[1, 2, 3], [0, 2, 3], [0, 1, 3], [0, 1, 2]]}"
      ]
     },
     "execution_count": 7,
     "metadata": {},
     "output_type": "execute_result"
    }
   ],
   "source": [
    "ac_state, new_csp = arc_consistency(csp_1, revise_nqueen)\n",
    "new_csp"
   ]
  },
  {
   "cell_type": "code",
   "execution_count": 8,
   "metadata": {},
   "outputs": [],
   "source": [
    "state, ass = recursive_backtracking(assign, csp_1, is_nqueen_consistent)"
   ]
  },
  {
   "cell_type": "code",
   "execution_count": 10,
   "metadata": {},
   "outputs": [
    {
     "data": {
      "text/plain": [
       "(True, {0: [1], 1: [3], 2: [0], 3: [2]})"
      ]
     },
     "execution_count": 10,
     "metadata": {},
     "output_type": "execute_result"
    }
   ],
   "source": [
    "state, ass"
   ]
  },
  {
   "cell_type": "code",
   "execution_count": 11,
   "metadata": {},
   "outputs": [
    {
     "name": "stdout",
     "output_type": "stream",
     "text": [
      "0|   ||   || Q ||   |\n",
      "\n",
      "1| Q ||   ||   ||   |\n",
      "\n",
      "2|   ||   ||   || Q |\n",
      "\n",
      "3|   || Q ||   ||   |\n",
      "\n"
     ]
    }
   ],
   "source": [
    "print_n_queen(ass, new_csp)"
   ]
  },
  {
   "cell_type": "code",
   "execution_count": 12,
   "metadata": {},
   "outputs": [],
   "source": [
    "state, ass = recursive_backtracking(assign, csp_1, is_nqueen_consistent, forward_checking)"
   ]
  },
  {
   "cell_type": "code",
   "execution_count": 13,
   "metadata": {},
   "outputs": [
    {
     "name": "stdout",
     "output_type": "stream",
     "text": [
      "0|   ||   || Q ||   |\n",
      "\n",
      "1| Q ||   ||   ||   |\n",
      "\n",
      "2|   ||   ||   || Q |\n",
      "\n",
      "3|   || Q ||   ||   |\n",
      "\n"
     ]
    }
   ],
   "source": [
    "print_n_queen(ass, csp_1)"
   ]
  },
  {
   "cell_type": "code",
   "execution_count": null,
   "metadata": {},
   "outputs": [],
   "source": []
  },
  {
   "cell_type": "code",
   "execution_count": null,
   "metadata": {},
   "outputs": [],
   "source": []
  }
 ],
 "metadata": {
  "kernelspec": {
   "display_name": "Python 3.8.9 64-bit",
   "language": "python",
   "name": "python3"
  },
  "language_info": {
   "codemirror_mode": {
    "name": "ipython",
    "version": 3
   },
   "file_extension": ".py",
   "mimetype": "text/x-python",
   "name": "python",
   "nbconvert_exporter": "python",
   "pygments_lexer": "ipython3",
   "version": "3.8.9"
  },
  "orig_nbformat": 4,
  "vscode": {
   "interpreter": {
    "hash": "31f2aee4e71d21fbe5cf8b01ff0e069b9275f58929596ceb00d14d90e3e16cd6"
   }
  }
 },
 "nbformat": 4,
 "nbformat_minor": 2
}
