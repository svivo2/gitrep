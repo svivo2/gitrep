{
  "cells": [
    {
      "cell_type": "markdown",
      "metadata": {
        "id": "5dMdbFpX0E7L"
      },
      "source": [
        "# Homework 1: Programming problems"
      ]
    },
    {
      "cell_type": "markdown",
      "metadata": {
        "id": "v4-8vFON0E7N"
      },
      "source": [
        "Please provide your contact information below <br>\n",
        "> Name: Sebastian Vivo<br>\n",
        "> UAID:  010849203<br>\n",
        "> Email: svivo@uark.edu<br> \n",
        "> Tree Search or Graph Search?: both"
      ]
    },
    {
      "cell_type": "markdown",
      "metadata": {
        "id": "mhNPYeGk0E7O"
      },
      "source": [
        "In this problem, we will try implementing the 3 search algorithms in Uninformed Search, namely Depth First Search, Breadth First Search, and Uniform Cost Search. We already provide somes codes to help you implement the search, and we will introduce them one by one. Make sure to read everything and provide your code as instructed. "
      ]
    },
    {
      "cell_type": "code",
      "execution_count": 1,
      "metadata": {
        "id": "1iJo81rs0E7P"
      },
      "outputs": [],
      "source": [
        "class Node():\n",
        "    def __init__(self, name):\n",
        "        self.cost = {}   \n",
        "        self.children = []\n",
        "        self.name = name \n",
        "    \n",
        "    def add_children(self, node, cost):\n",
        "        \"\"\"\n",
        "        Add the children nodes with the corresponding cost of connection\n",
        "        \"\"\"\n",
        "        self.cost[node.name] = {}\n",
        "        self.cost[node.name]['node'] = node # cost is the path cost\n",
        "        self.children.append(node)\n",
        "        self.cost[node.name]['cost'] = cost # cost is the path cost   \n",
        "\n",
        "    def clear_children(self):\n",
        "        self.cost = {}\n",
        "    \n",
        "    def sort_children(self):\n",
        "        \"\"\"\n",
        "        sort the children alphabetically. \n",
        "        e.g. [D,A,B] -> [D,B,A] \n",
        "        \"\"\"\n",
        "        self.children = []\n",
        "        for i in sorted(self.cost.keys(), reverse=True):\n",
        "            self.children.append(self.cost[i]['node'])\n",
        "\n",
        "    def is_terminal_node(self):\n",
        "        return not self.cost\n",
        "\n",
        "    def pop(self):\n",
        "        if len(self.children):\n",
        "            return self.children.pop()\n",
        "        else:\n",
        "            return False\n"
      ]
    },
    {
      "cell_type": "markdown",
      "metadata": {
        "id": "CkbnTPqY0E7R"
      },
      "source": [
        "We provide you class Node() to manage the nodes we need in this problem. Let's create node F."
      ]
    },
    {
      "cell_type": "code",
      "execution_count": 2,
      "metadata": {
        "id": "rbfTHvQl0E7S"
      },
      "outputs": [],
      "source": [
        "# create node F\n",
        "F = Node('F')"
      ]
    },
    {
      "cell_type": "markdown",
      "metadata": {
        "id": "1oA2clCs0E7S"
      },
      "source": [
        "Please create node R,T,Y, and W"
      ]
    },
    {
      "cell_type": "code",
      "execution_count": null,
      "metadata": {
        "id": "ltv3ZFO00E7T"
      },
      "outputs": [],
      "source": [
        "# create node R [1 pts]\n",
        "R = Node('R')\n",
        "# create node T [1 pts]\n",
        "T = Node('T')\n",
        "# create node Y [1 pts]\n",
        "Y = Node('Y')\n",
        "# create node W [1 pts]\n",
        "W = Node('W')"
      ]
    },
    {
      "cell_type": "markdown",
      "metadata": {
        "id": "DVVLvItm0E7U"
      },
      "source": [
        "If we want R and T to be the children of F, we use the method add_children as follows: "
      ]
    },
    {
      "cell_type": "code",
      "execution_count": null,
      "metadata": {
        "colab": {
          "base_uri": "https://localhost:8080/"
        },
        "id": "zQrQguhE0E7U",
        "outputId": "1335ebfe-4107-412e-ff97-152cc7ca9176"
      },
      "outputs": [
        {
          "name": "stdout",
          "output_type": "stream",
          "text": [
            "R T "
          ]
        }
      ],
      "source": [
        "F.add_children(R, 4)  # 4 is the path cost between F and T.\n",
        "F.add_children(T, 3)  # 3 is the path cost between F and R. \n",
        "\n",
        "# print the children in F\n",
        "for child in F.children:\n",
        "    print(child.name, end = ' ')"
      ]
    },
    {
      "cell_type": "markdown",
      "metadata": {
        "id": "QBhhu8Ie0E7V"
      },
      "source": [
        "If we want to sort the children in F alphabetically, we use the method sort_children"
      ]
    },
    {
      "cell_type": "code",
      "execution_count": null,
      "metadata": {
        "colab": {
          "base_uri": "https://localhost:8080/"
        },
        "id": "zY8q_1QU0E7V",
        "outputId": "529719cb-deee-4da4-a870-203c1c49e230"
      },
      "outputs": [
        {
          "name": "stdout",
          "output_type": "stream",
          "text": [
            "T R "
          ]
        }
      ],
      "source": [
        "F.sort_children()\n",
        "\n",
        "# print the children in F\n",
        "for child in F.children:\n",
        "    print(child.name, end = ' ')"
      ]
    },
    {
      "cell_type": "markdown",
      "metadata": {
        "id": "1PBC-OHw0E7V"
      },
      "source": [
        "Now it's your turn. "
      ]
    },
    {
      "cell_type": "code",
      "execution_count": null,
      "metadata": {
        "colab": {
          "base_uri": "https://localhost:8080/"
        },
        "id": "6xupLGiR0E7W",
        "outputId": "90043251-ec27-49df-fed1-7226abcb9ce7"
      },
      "outputs": [
        {
          "name": "stdout",
          "output_type": "stream",
          "text": [
            "R Y W "
          ]
        }
      ],
      "source": [
        "# add W,Y,R to be children of T [1 pts]\n",
        "\n",
        "T.add_children(R, 2)  # 2 is the path cost between T and R.\n",
        "T.add_children(Y, 3)  # 3 is the path cost between T and Y.\n",
        "T.add_children(W, 5)  # 5 is the path cost between T and W.\n",
        "\n",
        "\n",
        "\n",
        "# print the children in T [1 pts]\n",
        "\n",
        "for child in T.children:\n",
        "    print(child.name, end = ' ')\n",
        "\n"
      ]
    },
    {
      "cell_type": "markdown",
      "metadata": {
        "id": "zX0ZwPJY0E7W"
      },
      "source": [
        "Although class Node is enough to build the graph, we want something that could manage diffent graphs better if they have same nodes' name. Class Graph is provided for such purpose. However, it is missing some parts that need your code. "
      ]
    },
    {
      "cell_type": "code",
      "execution_count": 2,
      "metadata": {
        "id": "QsIaWdEg0E7X"
      },
      "outputs": [],
      "source": [
        "class Graph():\n",
        "    def __init__(self):\n",
        "        # create nodes for examples in appendix and question 4\n",
        "        self.S = Node('S')\n",
        "        self.A = Node('A')\n",
        "        self.B = Node('B')\n",
        "        self.C = Node('C')\n",
        "        self.D = Node('D')\n",
        "        self.E = Node('E')\n",
        "        self.G = Node('G')\n",
        "\n",
        "        # create nodes for question 5 [5 pts]\n",
        "        ###########################################\n",
        "        # WRITE YOUR CODE BELOW THIS LINE\n",
        "\n",
        "        self.T = Node('T')\n",
        "        self.F = Node('F')\n",
        "        self.N = Node('N')\n",
        "        self.Q = Node('Q')\n",
        "        self.P = Node('P')\n",
        "        self.O = Node('O')\n",
        "        self.M = Node('M')\n",
        "  \n",
        "        ###########################################\n",
        "    def create_graph_1(self):\n",
        "        \"\"\"\n",
        "        Create graph for example in the appendix of homework 1\n",
        "        \"\"\"\n",
        "        # create list containing nodes needed for this graph\n",
        "        node_list = [self.S, self.A, self.B, self.C, self.D, self.E, self.G]\n",
        "\n",
        "        # clear the existing children in the nodes if any\n",
        "        for node in node_list:\n",
        "            node.clear_children()\n",
        "\n",
        "        # add children node and the cost of connection\n",
        "        self.S.add_children(self.B,3)\n",
        "        self.S.add_children(self.A,2)\n",
        "        self.A.add_children(self.C,5)\n",
        "        self.A.add_children(self.D,3)\n",
        "        self.B.add_children(self.E,2)\n",
        "        self.B.add_children(self.D,7)\n",
        "        self.B.add_children(self.G,1)\n",
        "        self.E.add_children(self.G,2)\n",
        "\n",
        "        # sort the children alphabetically\n",
        "        for node in node_list:\n",
        "            node.sort_children()\n",
        "    \n",
        "    def create_graph_q4(self):\n",
        "        \"\"\"\n",
        "        Use the method create_graph_1 to help you create the graph of question 4 in homework 1. [5 pts]\n",
        "        \"\"\"\n",
        "        ###########################################\n",
        "        # WRITE YOUR CODE BELOW THIS LINE\n",
        "\n",
        "        self.S.add_children(self.B,3)\n",
        "        self.S.add_children(self.D,5)\n",
        "        self.S.add_children(self.A,2)\n",
        "        self.B.add_children(self.E,3)\n",
        "        self.D.add_children(self.C,2)\n",
        "        self.C.add_children(self.D,7)\n",
        "        self.B.add_children(self.E,1)\n",
        "        self.C.add_children(self.G,2)\n",
        "\n",
        "\n",
        "        ###########################################\n",
        "\n",
        "    def create_graph_q5(self):\n",
        "        \"\"\"\n",
        "        Use the method create_graph_1 to help you create the graph of question 5 in homework 1. [5 pts]\n",
        "        \"\"\"\n",
        "        ###########################################\n",
        "        # WRITE YOUR CODE BELOW THIS LINE\n",
        "\n",
        "        self.S.add_children(self.F,4)\n",
        "        self.S.add_children(self.T,1)\n",
        "        self.F.add_children(self.N,1)\n",
        "        self.N.add_children(self.Q,2)\n",
        "        self.T.add_children(self.P,2)\n",
        "        self.T.add_children(self.O,3)\n",
        "        self.O.add_children(self.O,1)\n",
        "        self.O.add_children(self.D,3)\n",
        "        self.P.add_children(self.D,2)\n",
        "        self.P.add_children(self.M,1)\n",
        "        self.P.add_children(self.N,1)\n",
        "        self.M.add_children(self.G,1)\n",
        "\n",
        "        ###########################################\n"
      ]
    },
    {
      "cell_type": "markdown",
      "metadata": {
        "id": "JzAz6-t60E7Z"
      },
      "source": [
        "We understand it will take you a while to write these algorithms so we provide our code for Depth First Search for Tree Search. This function returns 2 lists, first the path returned and second the node expansion order. You don't have to add any code in the function DFS, just run it to see the result.  "
      ]
    },
    {
      "cell_type": "code",
      "execution_count": 3,
      "metadata": {
        "id": "duuYt9rf0E7Z"
      },
      "outputs": [],
      "source": [
        "def DFS(start_node):\n",
        "    path_returned = [start_node]\n",
        "    expansion_order = [start_node]\n",
        "\n",
        "    while True:\n",
        "        next_node = path_returned[-1].pop()\n",
        "        if next_node == False:\n",
        "            popped = path_returned.pop()\n",
        "            print(\"Popped: \" + popped.name)\n",
        "            continue\n",
        "        else:\n",
        "            expansion_order.append(next_node)\n",
        "            path_returned.append(next_node)\n",
        "\n",
        "        print(\"Returned Path: \")\n",
        "        for node in path_returned:\n",
        "            print(node.name)\n",
        "        print(\"Expansion Order: \")\n",
        "        for node in expansion_order:\n",
        "            print(node.name)\n",
        "            \n",
        "        if next_node.name == 'G':\n",
        "            break\n",
        "\n",
        "        # if we find duplicate nodes in path returned\n",
        "        if len(set(path_returned)) < len(path_returned):\n",
        "           return [], expansion_order\n",
        "\n",
        "        if next_node.is_terminal_node():\n",
        "           path_returned.pop()\n",
        "\n",
        "    return path_returned, expansion_order"
      ]
    },
    {
      "cell_type": "code",
      "execution_count": 4,
      "metadata": {
        "colab": {
          "base_uri": "https://localhost:8080/"
        },
        "id": "JXFtStE60E7a",
        "outputId": "7081738e-4465-4cc9-f9af-f6539a3c037e"
      },
      "outputs": [
        {
          "name": "stdout",
          "output_type": "stream",
          "text": [
            "Returned Path: \n",
            "S\n",
            "A\n",
            "Expansion Order: \n",
            "S\n",
            "A\n",
            "Returned Path: \n",
            "S\n",
            "D\n",
            "Expansion Order: \n",
            "S\n",
            "A\n",
            "D\n",
            "Returned Path: \n",
            "S\n",
            "D\n",
            "C\n",
            "Expansion Order: \n",
            "S\n",
            "A\n",
            "D\n",
            "C\n",
            "Returned Path: \n",
            "S\n",
            "D\n",
            "C\n",
            "G\n",
            "Expansion Order: \n",
            "S\n",
            "A\n",
            "D\n",
            "C\n",
            "G\n",
            "Returned Path: \n",
            "S\n",
            "D\n",
            "C\n",
            "G\n",
            "Expansion Order: \n",
            "S\n",
            "A\n",
            "D\n",
            "C\n",
            "G\n"
          ]
        }
      ],
      "source": [
        "graph = Graph()\n",
        "# create graph of the example given in Appendix A\n",
        "graph.create_graph_q4()\n",
        "\n",
        "path_returned, expansion_order = DFS(graph.S)\n",
        "print(\"Returned Path: \")\n",
        "for node in path_returned:\n",
        "    print(node.name)\n",
        "print(\"Expansion Order: \")\n",
        "for node in expansion_order:\n",
        "    print(node.name)"
      ]
    },
    {
      "cell_type": "markdown",
      "metadata": {
        "id": "TTuvG0ev0E7b"
      },
      "source": [
        "Now it's your turn to write Breadth First Search. Please make sure it also returns the path returned and node expansion order. You don't have to make your code super fancy. As long as it runs correctly, you get the points. In the DFS, we use the most naive way to implement it, and we are sure you could write much better code than that. "
      ]
    },
    {
      "cell_type": "code",
      "execution_count": 5,
      "metadata": {
        "id": "W5Vu7F0k0E7b"
      },
      "outputs": [
        {
          "name": "stdout",
          "output_type": "stream",
          "text": [
            "1\n"
          ]
        },
        {
          "ename": "AttributeError",
          "evalue": "'list' object has no attribute 'name'",
          "output_type": "error",
          "traceback": [
            "\u001b[0;31m---------------------------------------------------------------------------\u001b[0m",
            "\u001b[0;31mAttributeError\u001b[0m                            Traceback (most recent call last)",
            "Cell \u001b[0;32mIn [5], line 16\u001b[0m\n\u001b[1;32m     14\u001b[0m front \u001b[39m=\u001b[39m [frontier[\u001b[39m0\u001b[39m]] \u001b[39m# get front []\u001b[39;00m\n\u001b[1;32m     15\u001b[0m \u001b[39mfor\u001b[39;00m n \u001b[39min\u001b[39;00m front:\n\u001b[0;32m---> 16\u001b[0m   \u001b[39mprint\u001b[39m(n\u001b[39m.\u001b[39;49mname)\n\u001b[1;32m     17\u001b[0m vertex \u001b[39m=\u001b[39m front[\u001b[39m-\u001b[39m\u001b[39m1\u001b[39m] \u001b[39m# get last node\u001b[39;00m\n\u001b[1;32m     19\u001b[0m \u001b[39mif\u001b[39;00m vertex \u001b[39m==\u001b[39m \u001b[39mFalse\u001b[39;00m:\n",
            "\u001b[0;31mAttributeError\u001b[0m: 'list' object has no attribute 'name'"
          ]
        }
      ],
      "source": [
        "# please provide your code for Uniform Cost Search below [10 pts]\n",
        "def BFS(start_node):\n",
        "    queue = [start_node]\n",
        "    expansion_order = [start_node]\n",
        "    path_returned = [start_node]\n",
        "\n",
        "    x = 0\n",
        "    while True:\n",
        "        x = x + 1\n",
        "        print(x)\n",
        "        vertex = queue[-1].pop() # gets last node's child \n",
        "\n",
        "        if vertex == False:\n",
        "          popped = queue.pop()\n",
        "          print(\"Popped: \" + popped.name)\n",
        "          continue\n",
        "\n",
        "        print(\"vertex: \" + vertex.name)     \n",
        "\n",
        "        if vertex in expansion_order:\n",
        "          print('Vertex: ' + vertex.name + \" already visited\")\n",
        "          continue\n",
        "          \n",
        "        else:\n",
        "          queue.reverse()\n",
        "          queue.append(vertex)\n",
        "          queue.reverse()\n",
        "          expansion_order.append(vertex)\n",
        "          path_returned.append(vertex)\n",
        "\n",
        "        if vertex.name == 'G':\n",
        "          queue.append(queue[-1])\n",
        "          queue.append(vertex)\n",
        "          break\n",
        "\n",
        "\n",
        "        print(\"queue: \")\n",
        "        for node in queue:\n",
        "            print(node.name)\n",
        "        print(\"Expansion Order: \")\n",
        "        for node in expansion_order:\n",
        "            print(node.name)\n",
        "        print(\"Path Returned: \")\n",
        "        for node in path_returned:\n",
        "            print(node.name)\n",
        "\n",
        "       \n",
        "\n",
        "    return path_returned, expansion_order"
      ]
    },
    {
      "cell_type": "code",
      "execution_count": 4,
      "metadata": {
        "colab": {
          "base_uri": "https://localhost:8080/"
        },
        "id": "mmHrlTGp0E7b",
        "outputId": "74c97f03-4fb7-4d32-b436-09687473baf8"
      },
      "outputs": [
        {
          "name": "stdout",
          "output_type": "stream",
          "text": [
            "1\n",
            "vertex: S\n",
            "Vertex: S already visited\n",
            "2\n",
            "vertex: S\n",
            "Vertex: S already visited\n",
            "3\n",
            "vertex: S\n",
            "Vertex: S already visited\n",
            "4\n",
            "vertex: S\n",
            "Vertex: S already visited\n",
            "5\n",
            "vertex: S\n",
            "Vertex: S already visited\n",
            "6\n",
            "vertex: S\n",
            "Vertex: S already visited\n",
            "7\n",
            "vertex: S\n",
            "Vertex: S already visited\n",
            "8\n",
            "vertex: S\n",
            "Vertex: S already visited\n",
            "9\n",
            "vertex: S\n",
            "Vertex: S already visited\n",
            "10\n",
            "vertex: S\n",
            "Vertex: S already visited\n",
            "11\n",
            "vertex: S\n",
            "Vertex: S already visited\n",
            "12\n",
            "vertex: S\n",
            "Vertex: S already visited\n",
            "13\n",
            "vertex: S\n",
            "Vertex: S already visited\n",
            "14\n",
            "vertex: S\n",
            "Vertex: S already visited\n",
            "15\n",
            "vertex: S\n",
            "Vertex: S already visited\n",
            "16\n",
            "vertex: S\n",
            "Vertex: S already visited\n",
            "17\n",
            "vertex: S\n",
            "Vertex: S already visited\n",
            "18\n",
            "vertex: S\n",
            "Vertex: S already visited\n",
            "19\n",
            "vertex: S\n",
            "Vertex: S already visited\n",
            "20\n",
            "vertex: S\n",
            "Vertex: S already visited\n",
            "21\n",
            "vertex: S\n",
            "Vertex: S already visited\n",
            "22\n",
            "vertex: S\n",
            "Vertex: S already visited\n",
            "23\n",
            "vertex: S\n",
            "Vertex: S already visited\n",
            "24\n",
            "vertex: S\n",
            "Vertex: S already visited\n",
            "25\n",
            "vertex: S\n",
            "Vertex: S already visited\n",
            "26\n",
            "vertex: S\n",
            "Vertex: S already visited\n",
            "27\n",
            "vertex: S\n",
            "Vertex: S already visited\n",
            "28\n",
            "vertex: S\n",
            "Vertex: S already visited\n",
            "29\n",
            "vertex: S\n",
            "Vertex: S already visited\n",
            "30\n",
            "vertex: S\n",
            "Vertex: S already visited\n",
            "31\n",
            "vertex: S\n",
            "Vertex: S already visited\n",
            "32\n",
            "vertex: S\n",
            "Vertex: S already visited\n",
            "33\n",
            "vertex: S\n",
            "Vertex: S already visited\n",
            "34\n",
            "vertex: S\n",
            "Vertex: S already visited\n",
            "35\n",
            "vertex: S\n",
            "Vertex: S already visited\n",
            "36\n",
            "vertex: S\n",
            "Vertex: S already visited\n",
            "37\n",
            "vertex: S\n",
            "Vertex: S already visited\n",
            "38\n",
            "vertex: S\n",
            "Vertex: S already visited\n",
            "39\n",
            "vertex: S\n",
            "Vertex: S already visited\n",
            "40\n",
            "vertex: S\n",
            "Vertex: S already visited\n",
            "41\n",
            "vertex: S\n",
            "Vertex: S already visited\n",
            "42\n",
            "vertex: S\n",
            "Vertex: S already visited\n",
            "43\n",
            "vertex: S\n",
            "Vertex: S already visited\n",
            "44\n",
            "vertex: S\n",
            "Vertex: S already visited\n",
            "45\n",
            "vertex: S\n",
            "Vertex: S already visited\n",
            "46\n",
            "vertex: S\n",
            "Vertex: S already visited\n",
            "47\n",
            "vertex: S\n",
            "Vertex: S already visited\n",
            "48\n",
            "vertex: S\n",
            "Vertex: S already visited\n",
            "49\n",
            "vertex: S\n",
            "Vertex: S already visited\n",
            "50\n",
            "vertex: S\n",
            "Vertex: S already visited\n",
            "51\n",
            "vertex: S\n",
            "Vertex: S already visited\n",
            "52\n",
            "vertex: S\n",
            "Vertex: S already visited\n",
            "53\n",
            "vertex: S\n",
            "Vertex: S already visited\n",
            "54\n",
            "vertex: S\n",
            "Vertex: S already visited\n",
            "55\n",
            "vertex: S\n",
            "Vertex: S already visited\n",
            "56\n",
            "vertex: S\n",
            "Vertex: S already visited\n",
            "57\n",
            "vertex: S\n",
            "Vertex: S already visited\n",
            "58\n",
            "vertex: S\n",
            "Vertex: S already visited\n",
            "59\n",
            "vertex: S\n",
            "Vertex: S already visited\n",
            "60\n",
            "vertex: S\n",
            "Vertex: S already visited\n",
            "61\n",
            "vertex: S\n",
            "Vertex: S already visited\n"
          ]
        }
      ],
      "source": [
        "graph = Graph()\n",
        "# create graph of the example given in Appendix A\n",
        "graph.create_graph_q4()\n",
        "\n",
        "path_returned, expansion_order = BFS(graph.S)\n",
        "print(\"Returned Path: \")\n",
        "for node in path_returned:\n",
        "    print(node.name)\n",
        "print(\"Expansion Order: \")\n",
        "for node in expansion_order:\n",
        "    print(node.name)"
      ]
    },
    {
      "cell_type": "markdown",
      "metadata": {
        "id": "pfG_t0NR0E7b"
      },
      "source": [
        "Our last algorithm in this homework is Uniform Cost Search. Please make sure it also returns the path returned and node expansion order."
      ]
    },
    {
      "cell_type": "code",
      "execution_count": 10,
      "metadata": {
        "id": "JVrz2Wz70E7b"
      },
      "outputs": [],
      "source": [
        "# please provide your code for Uniform Cost Search below [10 pts]\n",
        "def UCS(start_node):\n",
        "    frontier = {[start_node]:start_node.cost}\n",
        "    expansion_order = [start_node]\n",
        "    path_returned = [start_node]\n",
        "\n",
        "    x = 0\n",
        "    while True:\n",
        "        x = x + 1\n",
        "        print(x)\n",
        "        vertex = frontier[0] # gets last node's child \n",
        "\n",
        "        if vertex == False:\n",
        "          popped = frontier.pop()\n",
        "          print(\"Popped: \" + popped.name)\n",
        "          continue\n",
        "\n",
        "        print(\"vertex: \" + vertex.name)     \n",
        "\n",
        "        if vertex in expansion_order:\n",
        "          print('Vertex: ' + vertex.name + \" already visited\")\n",
        "          continue\n",
        "          \n",
        "        else:\n",
        "          frontier.reverse()\n",
        "          frontier.append(vertex)\n",
        "          frontier.reverse()\n",
        "          expansion_order.append(vertex)\n",
        "          path_returned.append(vertex)\n",
        "\n",
        "        if vertex.name == 'G':\n",
        "          frontier.append(frontier[-1])\n",
        "          frontier.append(vertex)\n",
        "          break\n",
        "\n",
        "\n",
        "        print(\"frontier: \")\n",
        "        for node in frontier:\n",
        "            print(node.name)\n",
        "        print(\"Expansion Order: \")\n",
        "        for node in expansion_order:\n",
        "            print(node.name)\n",
        "        print(\"Path Returned: \")\n",
        "        for node in path_returned:\n",
        "            print(node.name)\n",
        "\n",
        "       \n",
        "\n",
        "    return path_returned, expansion_order"
      ]
    },
    {
      "cell_type": "code",
      "execution_count": 11,
      "metadata": {
        "id": "SM5tcQ8O0E7c"
      },
      "outputs": [
        {
          "name": "stdout",
          "output_type": "stream",
          "text": [
            "1\n",
            "vertex: A\n",
            "queue: \n",
            "A\n",
            "S\n",
            "Expansion Order: \n",
            "S\n",
            "A\n",
            "Path Returned: \n",
            "S\n",
            "A\n",
            "2\n",
            "vertex: B\n",
            "queue: \n",
            "B\n",
            "A\n",
            "S\n",
            "Expansion Order: \n",
            "S\n",
            "A\n",
            "B\n",
            "Path Returned: \n",
            "S\n",
            "A\n",
            "B\n",
            "3\n",
            "Popped: S\n",
            "4\n",
            "vertex: C\n",
            "queue: \n",
            "C\n",
            "B\n",
            "A\n",
            "Expansion Order: \n",
            "S\n",
            "A\n",
            "B\n",
            "C\n",
            "Path Returned: \n",
            "S\n",
            "A\n",
            "B\n",
            "C\n",
            "5\n",
            "vertex: D\n",
            "queue: \n",
            "D\n",
            "C\n",
            "B\n",
            "A\n",
            "Expansion Order: \n",
            "S\n",
            "A\n",
            "B\n",
            "C\n",
            "D\n",
            "Path Returned: \n",
            "S\n",
            "A\n",
            "B\n",
            "C\n",
            "D\n",
            "6\n",
            "Popped: A\n",
            "7\n",
            "vertex: D\n",
            "Vertex: D already visited\n",
            "8\n",
            "vertex: E\n",
            "queue: \n",
            "E\n",
            "D\n",
            "C\n",
            "B\n",
            "Expansion Order: \n",
            "S\n",
            "A\n",
            "B\n",
            "C\n",
            "D\n",
            "E\n",
            "Path Returned: \n",
            "S\n",
            "A\n",
            "B\n",
            "C\n",
            "D\n",
            "E\n",
            "9\n",
            "vertex: G\n",
            "Returned Path: \n",
            "S\n",
            "A\n",
            "B\n",
            "C\n",
            "D\n",
            "E\n",
            "G\n",
            "Expansion Order: \n",
            "S\n",
            "A\n",
            "B\n",
            "C\n",
            "D\n",
            "E\n",
            "G\n"
          ]
        }
      ],
      "source": [
        "graph.create_graph_1()\n",
        "path_returned, expansion_order = UCS(graph.S)\n",
        "print(\"Returned Path: \")\n",
        "for node in path_returned:\n",
        "    print(node.name)\n",
        "print(\"Expansion Order: \")\n",
        "for node in expansion_order:\n",
        "    print(node.name)"
      ]
    },
    {
      "cell_type": "markdown",
      "metadata": {
        "id": "PW2_LuMa0E7c"
      },
      "source": [
        "If your function returns the same results as given in the appendix A, congrats! We still need you to complete one final task, which is create graphs in question 4 and 5 in Homework 1, and run all the algorithms on the said graphs. \n"
      ]
    },
    {
      "cell_type": "code",
      "execution_count": 8,
      "metadata": {
        "colab": {
          "base_uri": "https://localhost:8080/"
        },
        "id": "Gmm9Sit40E7c",
        "outputId": "578b93bd-0f5e-418d-9e7b-34cc848855a5"
      },
      "outputs": [
        {
          "name": "stdout",
          "output_type": "stream",
          "text": [
            "1\n",
            "vertex: A\n",
            "queue: \n",
            "A\n",
            "S\n",
            "Expansion Order: \n",
            "S\n",
            "A\n",
            "Path Returned: \n",
            "S\n",
            "A\n",
            "2\n",
            "vertex: D\n",
            "queue: \n",
            "D\n",
            "A\n",
            "S\n",
            "Expansion Order: \n",
            "S\n",
            "A\n",
            "D\n",
            "Path Returned: \n",
            "S\n",
            "A\n",
            "D\n",
            "3\n",
            "vertex: B\n",
            "queue: \n",
            "B\n",
            "D\n",
            "A\n",
            "S\n",
            "Expansion Order: \n",
            "S\n",
            "A\n",
            "D\n",
            "B\n",
            "Path Returned: \n",
            "S\n",
            "A\n",
            "D\n",
            "B\n",
            "4\n",
            "Popped: S\n",
            "5\n",
            "Popped: A\n",
            "6\n",
            "vertex: C\n",
            "queue: \n",
            "C\n",
            "B\n",
            "D\n",
            "Expansion Order: \n",
            "S\n",
            "A\n",
            "D\n",
            "B\n",
            "C\n",
            "Path Returned: \n",
            "S\n",
            "A\n",
            "D\n",
            "B\n",
            "C\n",
            "7\n",
            "Popped: D\n",
            "8\n",
            "vertex: E\n",
            "queue: \n",
            "E\n",
            "C\n",
            "B\n",
            "Expansion Order: \n",
            "S\n",
            "A\n",
            "D\n",
            "B\n",
            "C\n",
            "E\n",
            "Path Returned: \n",
            "S\n",
            "A\n",
            "D\n",
            "B\n",
            "C\n",
            "E\n",
            "9\n",
            "vertex: E\n",
            "Vertex: E already visited\n",
            "10\n",
            "Popped: B\n",
            "11\n",
            "vertex: G\n",
            "Returned Path: \n",
            "S\n",
            "A\n",
            "D\n",
            "B\n",
            "C\n",
            "E\n",
            "G\n",
            "Expansion Order: \n",
            "S\n",
            "A\n",
            "D\n",
            "B\n",
            "C\n",
            "E\n",
            "G\n"
          ]
        }
      ],
      "source": [
        "# [5 pts]\n",
        "# create graph in question 4\n",
        "graph.create_graph_q4()\n",
        "# run the DFS \n",
        "path_returned, expansion_order = BFS(graph.S)\n",
        "# print out the path returned and node expansion order\n",
        "print(\"Returned Path: \")\n",
        "for node in path_returned:\n",
        "    print(node.name)\n",
        "print(\"Expansion Order: \")\n",
        "for node in expansion_order:\n",
        "    print(node.name)"
      ]
    },
    {
      "cell_type": "code",
      "execution_count": null,
      "metadata": {
        "id": "HA2DReio0E7c"
      },
      "outputs": [],
      "source": [
        "# [5 pts]\n",
        "# create graph in question 4\n",
        "graph.create_graph_q4()\n",
        "# run the BFS \n",
        "path_returned, expansion_order = BFS(graph.S)\n",
        "# print out the path returned and node expansion order\n",
        "print(\"Returned Path: \")\n",
        "for node in path_returned:\n",
        "    print(node.name)\n",
        "print(\"Expansion Order: \")\n",
        "for node in expansion_order:\n",
        "    print(node.name)"
      ]
    },
    {
      "cell_type": "code",
      "execution_count": null,
      "metadata": {
        "id": "LDDyxhGu0E7c"
      },
      "outputs": [],
      "source": [
        "# [5 pts]\n",
        "# create graph in question 4\n",
        "graph.create_graph_q4()\n",
        "# run the UCS \n",
        "path_returned, expansion_order = BFS(graph.S)\n",
        "# print out the path returned and node expansion order\n",
        "print(\"Returned Path: \")\n",
        "for node in path_returned:\n",
        "    print(node.name)\n",
        "print(\"Expansion Order: \")\n",
        "for node in expansion_order:\n",
        "    print(node.name)"
      ]
    },
    {
      "cell_type": "code",
      "execution_count": null,
      "metadata": {
        "id": "FPBm1-lA0E7d"
      },
      "outputs": [],
      "source": [
        "# [5 pts]\n",
        "# create graph in question 5\n",
        "graph.create_graph_q5()\n",
        "# run the DFS \n",
        "path_returned, expansion_order = DFS(graph.S)\n",
        "# print out the path returned and node expansion order\n",
        "print(\"Returned Path: \")\n",
        "for node in path_returned:\n",
        "    print(node.name)\n",
        "print(\"Expansion Order: \")\n",
        "for node in expansion_order:\n",
        "    print(node.name)"
      ]
    },
    {
      "cell_type": "code",
      "execution_count": null,
      "metadata": {
        "id": "KlqszQm70E7d"
      },
      "outputs": [],
      "source": [
        "# [5 pts]\n",
        "# create graph in question 5\n",
        "graph.create_graph_q5()\n",
        "# run the BFS \n",
        "path_returned, expansion_order = BFS(graph.S)\n",
        "# print out the path returned and node expansion order\n",
        "print(\"Returned Path: \")\n",
        "for node in path_returned:\n",
        "    print(node.name)\n",
        "print(\"Expansion Order: \")\n",
        "for node in expansion_order:\n",
        "    print(node.name)"
      ]
    },
    {
      "cell_type": "code",
      "execution_count": null,
      "metadata": {
        "id": "sjzfEvrl0E7d"
      },
      "outputs": [],
      "source": [
        "# [5 pts]\n",
        "# create graph in question 5\n",
        "graph.create_graph_q5()\n",
        "# run the UCS \n",
        "path_returned, expansion_order = UCS(graph.S)\n",
        "# print out the path returned and node expansion order\n",
        "print(\"Returned Path: \")\n",
        "for node in path_returned:\n",
        "    print(node.name)\n",
        "print(\"Expansion Order: \")\n",
        "for node in expansion_order:\n",
        "    print(node.name)"
      ]
    }
  ],
  "metadata": {
    "colab": {
      "collapsed_sections": [],
      "provenance": []
    },
    "kernelspec": {
      "display_name": "Python 3.8.9 64-bit",
      "language": "python",
      "name": "python3"
    },
    "language_info": {
      "codemirror_mode": {
        "name": "ipython",
        "version": 3
      },
      "file_extension": ".py",
      "mimetype": "text/x-python",
      "name": "python",
      "nbconvert_exporter": "python",
      "pygments_lexer": "ipython3",
      "version": "3.8.9"
    },
    "orig_nbformat": 4,
    "vscode": {
      "interpreter": {
        "hash": "31f2aee4e71d21fbe5cf8b01ff0e069b9275f58929596ceb00d14d90e3e16cd6"
      }
    }
  },
  "nbformat": 4,
  "nbformat_minor": 0
}
