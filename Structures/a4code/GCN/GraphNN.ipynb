{
  "nbformat": 4,
  "nbformat_minor": 0,
  "metadata": {
    "colab": {
      "name": "GraphNN.ipynb",
      "provenance": [],
      "collapsed_sections": []
    },
    "kernelspec": {
      "name": "python3",
      "display_name": "Python 3"
    },
    "language_info": {
      "name": "python"
    }
  },
  "cells": [
    {
      "cell_type": "code",
      "execution_count": null,
      "metadata": {
        "id": "H0IrpONPE-a9"
      },
      "outputs": [],
      "source": [
        "! pip install torch-scatter torch-sparse -f https://data.pyg.org/whl/torch-1.10.0+cu111.html \n",
        "! pip install torch_geometric networkx"
      ]
    },
    {
      "cell_type": "code",
      "source": [
        "from torch_geometric.datasets import Planetoid\n",
        "import torch\n",
        "import torch.nn.functional as F\n",
        "from torch_geometric.nn import MessagePassing\n",
        "from torch_geometric.utils import add_self_loops, degree\n",
        "import networkx as nx\n",
        "import numpy as np\n",
        "import matplotlib.pyplot as plt"
      ],
      "metadata": {
        "id": "V7SZHjDQFD9T"
      },
      "execution_count": null,
      "outputs": []
    },
    {
      "cell_type": "code",
      "source": [
        "class GCNConv(MessagePassing):\n",
        "    def __init__(self, in_channels, out_channels):\n",
        "        super(GCNConv, self).__init__(aggr='add')  # \"Add\" aggregation\n",
        "        self.lin = torch.nn.Linear(in_channels, out_channels)\n",
        "\n",
        "    def forward(self, x, edge_index):\n",
        "        # Step 1: Add self-loops\n",
        "        edge_index, _ = add_self_loops(edge_index, num_nodes=x.size(0))\n",
        "\n",
        "        # Step 2: Multiply with weights\n",
        "        x = self.lin(x)\n",
        "\n",
        "        # Step 3: Calculate the normalization\n",
        "        row, col = edge_index\n",
        "        deg = degree(row, x.size(0), dtype=x.dtype)\n",
        "        deg_inv_sqrt = deg.pow(-0.5)\n",
        "        norm = deg_inv_sqrt[row] * deg_inv_sqrt[col]\n",
        "\n",
        "        # Step 4: Propagate the embeddings to the next layer\n",
        "        return self.propagate(edge_index, size=(x.size(0), x.size(0)), x=x,\n",
        "                              norm=norm)\n",
        "\n",
        "    def message(self, x_j, norm):\n",
        "        # Normalize node features.\n",
        "        return norm.view(-1, 1) * x_j\n",
        "\n",
        "\n",
        "class Net(torch.nn.Module):\n",
        "    def __init__(self, dataset):\n",
        "        super(Net, self).__init__()\n",
        "        self.conv1 = GCNConv(dataset.num_node_features, 16)\n",
        "        self.conv2 = GCNConv(16, dataset.num_classes)\n",
        "\n",
        "    def forward(self, data):\n",
        "        x, edge_index = data.x, data.edge_index\n",
        "\n",
        "        x = self.conv1(x, edge_index)\n",
        "        x = F.relu(x)\n",
        "        x = F.dropout(x, training=self.training)\n",
        "        x = self.conv2(x, edge_index)\n",
        "\n",
        "        return F.log_softmax(x, dim=1)"
      ],
      "metadata": {
        "id": "gDfzupS8FAGd"
      },
      "execution_count": null,
      "outputs": []
    },
    {
      "cell_type": "code",
      "source": [
        "def plot_dataset(dataset):\n",
        "    edges_raw = dataset.data.edge_index.numpy()\n",
        "    edges = [(x, y) for x, y in zip(edges_raw[0, :], edges_raw[1, :])]\n",
        "    labels = dataset.data.y.numpy()\n",
        "\n",
        "    G = nx.Graph()\n",
        "    G.add_nodes_from(list(range(np.max(edges_raw))))\n",
        "    G.add_edges_from(edges)\n",
        "    plt.subplot(111)\n",
        "    options = {\n",
        "                'node_size': 30,\n",
        "                'width': 0.2,\n",
        "    }\n",
        "    nx.draw(G, with_labels=False, node_color=labels.tolist(), cmap=plt.cm.tab10, font_weight='bold', **options)\n",
        "    plt.show()"
      ],
      "metadata": {
        "id": "VZHMPGMTHraN"
      },
      "execution_count": null,
      "outputs": []
    },
    {
      "cell_type": "code",
      "source": [
        "def test(data, train=True):\n",
        "    model.eval()\n",
        "\n",
        "    correct = 0\n",
        "    pred = model(data).max(dim=1)[1]\n",
        "\n",
        "    if train:\n",
        "        correct += pred[data.train_mask].eq(data.y[data.train_mask]).sum().item()\n",
        "        return correct / (len(data.y[data.train_mask]))\n",
        "    else:\n",
        "        correct += pred[data.test_mask].eq(data.y[data.test_mask]).sum().item()\n",
        "        return correct / (len(data.y[data.test_mask]))"
      ],
      "metadata": {
        "id": "52MEYSrTIBYM"
      },
      "execution_count": null,
      "outputs": []
    },
    {
      "cell_type": "code",
      "source": [
        "def train(data, plot=False):\n",
        "    train_accuracies, test_accuracies = list(), list()\n",
        "    for epoch in range(100):\n",
        "            model.train()\n",
        "            optimizer.zero_grad()\n",
        "            out = model(data)\n",
        "            loss = F.nll_loss(out[data.train_mask], data.y[data.train_mask])\n",
        "            loss.backward()\n",
        "            optimizer.step()\n",
        "\n",
        "            train_acc = test(data)\n",
        "            test_acc = test(data, train=False)\n",
        "\n",
        "            train_accuracies.append(train_acc)\n",
        "            test_accuracies.append(test_acc)\n",
        "            print('Epoch: {:03d}, Loss: {:.5f}, Train Acc: {:.5f}, Test Acc: {:.5f}'.\n",
        "                  format(epoch, loss, train_acc, test_acc))\n",
        "\n",
        "    if plot:\n",
        "        plt.plot(train_accuracies, label=\"Train accuracy\")\n",
        "        plt.plot(test_accuracies, label=\"Validation accuracy\")\n",
        "        plt.xlabel(\"# Epoch\")\n",
        "        plt.ylabel(\"Accuracy\")\n",
        "        plt.legend(loc='upper right')\n",
        "        plt.show()\n"
      ],
      "metadata": {
        "id": "TyJJGGBZIDx2"
      },
      "execution_count": null,
      "outputs": []
    },
    {
      "cell_type": "code",
      "source": [
        "dataset = Planetoid(root='./data/', name='Cora')\n",
        "plot_dataset(dataset)"
      ],
      "metadata": {
        "id": "kg78qpdlIGcb"
      },
      "execution_count": null,
      "outputs": []
    },
    {
      "cell_type": "code",
      "source": [
        "device = torch.device('cuda' if torch.cuda.is_available() else 'cpu')\n",
        "model = Net(dataset).to(device)\n",
        "data = dataset[0].to(device)\n",
        "print(model)"
      ],
      "metadata": {
        "id": "y2O_ptPjIOeB"
      },
      "execution_count": null,
      "outputs": []
    },
    {
      "cell_type": "code",
      "source": [
        "optimizer = torch.optim.Adam(model.parameters(), lr=0.01, weight_decay=5e-4)\n",
        "train(data, plot=True)"
      ],
      "metadata": {
        "id": "fRkQy84pIVHC"
      },
      "execution_count": null,
      "outputs": []
    },
    {
      "cell_type": "code",
      "source": [
        ""
      ],
      "metadata": {
        "id": "bv0dlTdEIb3f"
      },
      "execution_count": null,
      "outputs": []
    }
  ]
}